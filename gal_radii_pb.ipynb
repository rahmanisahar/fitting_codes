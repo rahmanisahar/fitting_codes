{
 "metadata": {
  "name": "gal_radii_pb"
 },
 "nbformat": 3,
 "nbformat_minor": 0,
 "worksheets": [
  {
   "cells": [
    {
     "cell_type": "code",
     "collapsed": false,
     "input": [
      "from astropy.coordinates import ICRS, Galactic, Distance, Angle\n",
      "from astropy import units as u\n",
      "import math as mt\n",
      "import numpy as np\n",
      "from astropy.table import Table, Column\n",
      "\n",
      "# inspired by\n",
      "#http://idl-moustakas.googlecode.com/svn-history/r560/trunk/impro/hiiregions/im_hiiregion_deproject.pro\n",
      "def correct_rgc(coord, glx_ctr=ICRS('00h42m44.33s +41d16m07.5s'), glx_PA=Angle('37d42m54s'), glx_incl=Angle('77.5d'), glx_dist=Distance(783,unit=u.kpc)):\n",
      "    '''computes deprojected galactocentric distance for an object at coord,\n",
      "       relative to galaxy at glx_ctr with PA glx_PA, inclination glx_incl, distance glx_distance'''\n",
      "\n",
      "    # distance from coord to glx centre\n",
      "    sky_radius = glx_ctr.separation(coord)\n",
      "    avg_dec = 0.5*(glx_ctr.dec + coord.dec).radian\n",
      "    x = (glx_ctr.ra - coord.ra)*mt.cos(avg_dec)\n",
      "    y = glx_ctr.dec - coord.dec\n",
      "    # azimuthal angle from coord to glx  -- not completely happy with this\n",
      "    phi = glx_PA - Angle('90d') + Angle(mt.atan(y.arcsec/x.arcsec),unit=u.rad) \n",
      "\n",
      "    # convert to coordinates in rotated frame, where y-axis is galaxy major axis\n",
      "    # have to convert to arcmin b/c can't do sqrt(x^2+y^2) when x and y are angles\n",
      "    xp = (sky_radius * mt.cos(phi.radian)).arcmin\n",
      "    yp = (sky_radius * mt.sin(phi.radian)).arcmin\n",
      "\n",
      "    # de-project\n",
      "    ypp = yp/mt.cos(glx_incl.radian)\n",
      "    obj_radius = mt.sqrt(xp**2+ypp**2) # in arcmin\n",
      "    obj_dist = Distance(Angle(obj_radius, unit=u.arcmin).radian*glx_dist,unit=glx_dist.unit)\n",
      "\n",
      "    # don't really need this but compute it just for fun\n",
      "    if abs(Angle(xp,unit=u.arcmin))<Angle(1e-5,unit=u.rad):\n",
      "        obj_phi = Angle(0.0)\n",
      "    else:\n",
      "        obj_phi = Angle(mt.atan(ypp/xp),unit=u.rad)\n",
      "    return(obj_dist)"
     ],
     "language": "python",
     "metadata": {},
     "outputs": []
    }
   ],
   "metadata": {}
  }
 ]
}